{
  "nbformat": 4,
  "nbformat_minor": 0,
  "metadata": {
    "colab": {
      "provenance": [],
      "authorship_tag": "ABX9TyPaALzWSKL/luK3Nw3BFPms",
      "include_colab_link": true
    },
    "kernelspec": {
      "name": "python3",
      "display_name": "Python 3"
    },
    "language_info": {
      "name": "python"
    }
  },
  "cells": [
    {
      "cell_type": "markdown",
      "metadata": {
        "id": "view-in-github",
        "colab_type": "text"
      },
      "source": [
        "<a href=\"https://colab.research.google.com/github/michelup/TEST_SDA/blob/main/FINAL_PROJECT_Pokemons_DenseNET121.ipynb\" target=\"_parent\"><img src=\"https://colab.research.google.com/assets/colab-badge.svg\" alt=\"Open In Colab\"/></a>"
      ]
    },
    {
      "cell_type": "code",
      "execution_count": 14,
      "metadata": {
        "id": "Zk7aU8hvYDZr"
      },
      "outputs": [],
      "source": [
        "import numpy as np\n",
        "import json\n",
        "import requests\n",
        "import kagglehub\n",
        "import os\n",
        "import pandas as pd\n",
        "import plotly.express as px\n",
        "import matplotlib.pyplot as plt\n",
        "\n",
        "import tensorflow as tf\n",
        "import keras\n",
        "from keras.src.applications.densenet import DenseNet121, preprocess_input\n",
        "from keras.src.models import Sequential\n",
        "from keras.src.utils import image_dataset_from_directory\n",
        "from keras import layers, models\n",
        "from keras.src.layers import Dense, Dropout\n",
        "\n",
        "import matplotlib.pyplot as plt\n",
        "import pandas as pd\n",
        "\n",
        "\n",
        "\n",
        "from PIL import Image, ImageOps\n",
        "\n",
        "from keras.applications import MobileNetV2\n",
        "from keras.applications.mobilenet_v2 import preprocess_input\n",
        "from keras.preprocessing import image_dataset_from_directory\n",
        "from keras.layers import Dense, GlobalAveragePooling2D, Dropout, Flatten\n",
        "from keras.layers import Input, Conv2D, MaxPooling2D\n",
        "from keras.optimizers import SGD\n",
        "from keras.models import Model, Sequential\n",
        "\n"
      ]
    },
    {
      "cell_type": "code",
      "source": [
        "#data preprocessing\n",
        "  #handling missing values\n",
        "  #data scaling\n",
        "  #categorical features encoding\n",
        "  #preparation or extraction of the test collection - test/train\n",
        "  #data augmentation\n",
        "\n",
        "#model architecture\n",
        "  #input layer\n",
        "  #hidden layer\n",
        "  #output layer\n",
        "  #neurons\n",
        "  #activation functions\n",
        "  #connection between neurons\n",
        "  #parametres\n",
        "\n",
        "#Loss function\n",
        "#optimizer\n",
        "#iteratice learning process\n",
        "#Hyper parameter tunning\n",
        "#Final testing\n",
        "\n",
        "\n",
        "\n",
        "\n",
        "\n",
        "\n",
        "\n",
        "\n"
      ],
      "metadata": {
        "id": "XlMsuC77eDej"
      },
      "execution_count": 14,
      "outputs": []
    },
    {
      "cell_type": "code",
      "source": [
        "from google.colab import files\n",
        "uploaded = files.upload()"
      ],
      "metadata": {
        "colab": {
          "base_uri": "https://localhost:8080/",
          "height": 72
        },
        "id": "7euw4IKHeDmc",
        "outputId": "b66c24f9-e92b-4794-d9d3-f2438c9ee4c7"
      },
      "execution_count": 15,
      "outputs": [
        {
          "output_type": "display_data",
          "data": {
            "text/plain": [
              "<IPython.core.display.HTML object>"
            ],
            "text/html": [
              "\n",
              "     <input type=\"file\" id=\"files-c9283526-87da-4fde-ac1e-31bd3f27a5c5\" name=\"files[]\" multiple disabled\n",
              "        style=\"border:none\" />\n",
              "     <output id=\"result-c9283526-87da-4fde-ac1e-31bd3f27a5c5\">\n",
              "      Upload widget is only available when the cell has been executed in the\n",
              "      current browser session. Please rerun this cell to enable.\n",
              "      </output>\n",
              "      <script>// Copyright 2017 Google LLC\n",
              "//\n",
              "// Licensed under the Apache License, Version 2.0 (the \"License\");\n",
              "// you may not use this file except in compliance with the License.\n",
              "// You may obtain a copy of the License at\n",
              "//\n",
              "//      http://www.apache.org/licenses/LICENSE-2.0\n",
              "//\n",
              "// Unless required by applicable law or agreed to in writing, software\n",
              "// distributed under the License is distributed on an \"AS IS\" BASIS,\n",
              "// WITHOUT WARRANTIES OR CONDITIONS OF ANY KIND, either express or implied.\n",
              "// See the License for the specific language governing permissions and\n",
              "// limitations under the License.\n",
              "\n",
              "/**\n",
              " * @fileoverview Helpers for google.colab Python module.\n",
              " */\n",
              "(function(scope) {\n",
              "function span(text, styleAttributes = {}) {\n",
              "  const element = document.createElement('span');\n",
              "  element.textContent = text;\n",
              "  for (const key of Object.keys(styleAttributes)) {\n",
              "    element.style[key] = styleAttributes[key];\n",
              "  }\n",
              "  return element;\n",
              "}\n",
              "\n",
              "// Max number of bytes which will be uploaded at a time.\n",
              "const MAX_PAYLOAD_SIZE = 100 * 1024;\n",
              "\n",
              "function _uploadFiles(inputId, outputId) {\n",
              "  const steps = uploadFilesStep(inputId, outputId);\n",
              "  const outputElement = document.getElementById(outputId);\n",
              "  // Cache steps on the outputElement to make it available for the next call\n",
              "  // to uploadFilesContinue from Python.\n",
              "  outputElement.steps = steps;\n",
              "\n",
              "  return _uploadFilesContinue(outputId);\n",
              "}\n",
              "\n",
              "// This is roughly an async generator (not supported in the browser yet),\n",
              "// where there are multiple asynchronous steps and the Python side is going\n",
              "// to poll for completion of each step.\n",
              "// This uses a Promise to block the python side on completion of each step,\n",
              "// then passes the result of the previous step as the input to the next step.\n",
              "function _uploadFilesContinue(outputId) {\n",
              "  const outputElement = document.getElementById(outputId);\n",
              "  const steps = outputElement.steps;\n",
              "\n",
              "  const next = steps.next(outputElement.lastPromiseValue);\n",
              "  return Promise.resolve(next.value.promise).then((value) => {\n",
              "    // Cache the last promise value to make it available to the next\n",
              "    // step of the generator.\n",
              "    outputElement.lastPromiseValue = value;\n",
              "    return next.value.response;\n",
              "  });\n",
              "}\n",
              "\n",
              "/**\n",
              " * Generator function which is called between each async step of the upload\n",
              " * process.\n",
              " * @param {string} inputId Element ID of the input file picker element.\n",
              " * @param {string} outputId Element ID of the output display.\n",
              " * @return {!Iterable<!Object>} Iterable of next steps.\n",
              " */\n",
              "function* uploadFilesStep(inputId, outputId) {\n",
              "  const inputElement = document.getElementById(inputId);\n",
              "  inputElement.disabled = false;\n",
              "\n",
              "  const outputElement = document.getElementById(outputId);\n",
              "  outputElement.innerHTML = '';\n",
              "\n",
              "  const pickedPromise = new Promise((resolve) => {\n",
              "    inputElement.addEventListener('change', (e) => {\n",
              "      resolve(e.target.files);\n",
              "    });\n",
              "  });\n",
              "\n",
              "  const cancel = document.createElement('button');\n",
              "  inputElement.parentElement.appendChild(cancel);\n",
              "  cancel.textContent = 'Cancel upload';\n",
              "  const cancelPromise = new Promise((resolve) => {\n",
              "    cancel.onclick = () => {\n",
              "      resolve(null);\n",
              "    };\n",
              "  });\n",
              "\n",
              "  // Wait for the user to pick the files.\n",
              "  const files = yield {\n",
              "    promise: Promise.race([pickedPromise, cancelPromise]),\n",
              "    response: {\n",
              "      action: 'starting',\n",
              "    }\n",
              "  };\n",
              "\n",
              "  cancel.remove();\n",
              "\n",
              "  // Disable the input element since further picks are not allowed.\n",
              "  inputElement.disabled = true;\n",
              "\n",
              "  if (!files) {\n",
              "    return {\n",
              "      response: {\n",
              "        action: 'complete',\n",
              "      }\n",
              "    };\n",
              "  }\n",
              "\n",
              "  for (const file of files) {\n",
              "    const li = document.createElement('li');\n",
              "    li.append(span(file.name, {fontWeight: 'bold'}));\n",
              "    li.append(span(\n",
              "        `(${file.type || 'n/a'}) - ${file.size} bytes, ` +\n",
              "        `last modified: ${\n",
              "            file.lastModifiedDate ? file.lastModifiedDate.toLocaleDateString() :\n",
              "                                    'n/a'} - `));\n",
              "    const percent = span('0% done');\n",
              "    li.appendChild(percent);\n",
              "\n",
              "    outputElement.appendChild(li);\n",
              "\n",
              "    const fileDataPromise = new Promise((resolve) => {\n",
              "      const reader = new FileReader();\n",
              "      reader.onload = (e) => {\n",
              "        resolve(e.target.result);\n",
              "      };\n",
              "      reader.readAsArrayBuffer(file);\n",
              "    });\n",
              "    // Wait for the data to be ready.\n",
              "    let fileData = yield {\n",
              "      promise: fileDataPromise,\n",
              "      response: {\n",
              "        action: 'continue',\n",
              "      }\n",
              "    };\n",
              "\n",
              "    // Use a chunked sending to avoid message size limits. See b/62115660.\n",
              "    let position = 0;\n",
              "    do {\n",
              "      const length = Math.min(fileData.byteLength - position, MAX_PAYLOAD_SIZE);\n",
              "      const chunk = new Uint8Array(fileData, position, length);\n",
              "      position += length;\n",
              "\n",
              "      const base64 = btoa(String.fromCharCode.apply(null, chunk));\n",
              "      yield {\n",
              "        response: {\n",
              "          action: 'append',\n",
              "          file: file.name,\n",
              "          data: base64,\n",
              "        },\n",
              "      };\n",
              "\n",
              "      let percentDone = fileData.byteLength === 0 ?\n",
              "          100 :\n",
              "          Math.round((position / fileData.byteLength) * 100);\n",
              "      percent.textContent = `${percentDone}% done`;\n",
              "\n",
              "    } while (position < fileData.byteLength);\n",
              "  }\n",
              "\n",
              "  // All done.\n",
              "  yield {\n",
              "    response: {\n",
              "      action: 'complete',\n",
              "    }\n",
              "  };\n",
              "}\n",
              "\n",
              "scope.google = scope.google || {};\n",
              "scope.google.colab = scope.google.colab || {};\n",
              "scope.google.colab._files = {\n",
              "  _uploadFiles,\n",
              "  _uploadFilesContinue,\n",
              "};\n",
              "})(self);\n",
              "</script> "
            ]
          },
          "metadata": {}
        },
        {
          "output_type": "stream",
          "name": "stdout",
          "text": [
            "Saving first-gen-pokemon.zip to first-gen-pokemon (1).zip\n"
          ]
        }
      ]
    },
    {
      "cell_type": "code",
      "source": [
        "import zipfile\n",
        "\n",
        "# nahraď názvem svého souboru\n",
        "zip_path = 'first-gen-pokemon.zip'\n",
        "\n",
        "with zipfile.ZipFile(zip_path, 'r') as zip_ref:\n",
        "    zip_ref.extractall('pokemon_data')\n",
        "\n",
        "# ověř, co je uvnitř\n",
        "print(os.listdir('pokemon_data'))\n",
        "print(os.listdir('pokemon_data/dataset'))"
      ],
      "metadata": {
        "colab": {
          "base_uri": "https://localhost:8080/"
        },
        "id": "rvUsQfvokfnE",
        "outputId": "d7535b0c-a23e-4d52-8e7f-ba93b2c284df"
      },
      "execution_count": 16,
      "outputs": [
        {
          "output_type": "stream",
          "name": "stdout",
          "text": [
            "['pokemons_gen1.csv', 'dataset']\n",
            "['test', 'train']\n"
          ]
        }
      ]
    },
    {
      "cell_type": "code",
      "source": [],
      "metadata": {
        "id": "a_p14bAXk8kz"
      },
      "execution_count": 16,
      "outputs": []
    },
    {
      "cell_type": "code",
      "source": [
        "\n"
      ],
      "metadata": {
        "id": "MY3Nbw3IwihT"
      },
      "execution_count": 16,
      "outputs": []
    },
    {
      "cell_type": "code",
      "source": [
        "train_dir = 'pokemon_data/dataset/train'\n",
        "test_dir = 'pokemon_data/dataset/test'"
      ],
      "metadata": {
        "id": "HZCXqJPepU93"
      },
      "execution_count": 17,
      "outputs": []
    },
    {
      "cell_type": "code",
      "source": [
        "\n",
        "#priprava dat\n",
        "\n",
        "img_size = (224, 224)  #resampling na  224x224\n",
        "batch_size = 32   #velikost batche 32\n",
        "\n",
        "\n",
        "#definice trenovacich dat\n",
        "train_dataset = image_dataset_from_directory(\n",
        "    train_dir,\n",
        "    label_mode='categorical',  #priradi label podle kategorie/slozek v adresari\n",
        "    shuffle=True,\n",
        "    image_size=img_size, # fotka bude upravena na velikost definovanou promennou v  img_size vyse\n",
        "    batch_size=batch_size\n",
        ")\n",
        "\n",
        "#definice testovacich dat\n",
        "test_dataset = image_dataset_from_directory(\n",
        "    test_dir,\n",
        "    label_mode='categorical',\n",
        "    shuffle=False,\n",
        "    image_size=img_size,\n",
        "    batch_size=batch_size\n",
        ")"
      ],
      "metadata": {
        "colab": {
          "base_uri": "https://localhost:8080/"
        },
        "id": "IQQUPbV7vT8b",
        "outputId": "a198733e-6d5c-4b7a-b1f7-5aa1d0129e45"
      },
      "execution_count": 18,
      "outputs": [
        {
          "output_type": "stream",
          "name": "stdout",
          "text": [
            "Found 2249 files belonging to 151 classes.\n",
            "Found 840 files belonging to 151 classes.\n"
          ]
        }
      ]
    },
    {
      "cell_type": "code",
      "source": [
        "class_names = test_dataset.class_names #seznam tříd/názvů jednotlivých kategorií, odvozenych z názvů složek při načítání datasetu\n"
      ],
      "metadata": {
        "id": "hiGpOaSJvjbG"
      },
      "execution_count": 19,
      "outputs": []
    },
    {
      "cell_type": "code",
      "source": [
        "train_dataset = train_dataset.map(lambda x, y: (preprocess_input(x), y))\n",
        "test_dataset = test_dataset.map(lambda x, y: (preprocess_input(x), y))"
      ],
      "metadata": {
        "id": "Yd8ivK4bxGsp"
      },
      "execution_count": 20,
      "outputs": []
    },
    {
      "cell_type": "code",
      "source": [
        "# vytvoreni konvoluční neuronove síťe pro klasifikaci obrázků pomocí transfer learningu s předtrénovaným modelem DenseNet121\n",
        "# model využívá silný předtrénovaný základ DenseNet121 pro extrakci vizuálních rysů a staví na něm vlastní klasifikátor pro nový úkol s 151 kategoriemi/pokemony\n",
        "from tensorflow.keras import Sequential, layers\n",
        "from tensorflow.keras.applications import DenseNet121\n",
        "\n",
        "\n",
        "base_model = DenseNet121(\n",
        "    include_top=False,\n",
        "    weights='imagenet',\n",
        "    input_shape=(224, 224, 3)\n",
        ")\n",
        "\n",
        "model = Sequential([\n",
        "    base_model,\n",
        "    layers.GlobalAveragePooling2D(),\n",
        "    layers.Dense(128, activation='relu'),\n",
        "    layers.Dropout(0.5),\n",
        "    layers.Dense(151, activation='softmax')\n",
        "])"
      ],
      "metadata": {
        "id": "QoCYEGBGxblE"
      },
      "execution_count": 21,
      "outputs": []
    },
    {
      "cell_type": "code",
      "source": [
        "model.compile(\n",
        "    optimizer=\"adam\",\n",
        "    loss='categorical_crossentropy',\n",
        "    metrics=['accuracy']\n",
        ")"
      ],
      "metadata": {
        "id": "vvumjQK6x2Xh"
      },
      "execution_count": 22,
      "outputs": []
    },
    {
      "cell_type": "code",
      "source": [
        "checkpoint_callback = keras.callbacks.ModelCheckpoint(\n",
        "    'soubor.keras',\n",
        "    monitor='val_accuracy',\n",
        "    save_best_only=True,\n",
        "    mode='max',\n",
        "    verbose=1\n",
        ")\n",
        "\n",
        "#pripojit  google drive a ulozit checkpoint na muj  drive"
      ],
      "metadata": {
        "id": "IZpEbj5CwJNu"
      },
      "execution_count": 23,
      "outputs": []
    },
    {
      "cell_type": "code",
      "source": [
        "epoch_val = 20\n",
        "\n",
        "history = model.fit(\n",
        "    train_dataset,\n",
        "    validation_data=test_dataset,\n",
        "    epochs=epoch_val,\n",
        "    callbacks=[checkpoint_callback]\n",
        ")"
      ],
      "metadata": {
        "colab": {
          "base_uri": "https://localhost:8080/"
        },
        "id": "R8PHyOSCw7sh",
        "outputId": "70741a1f-00cf-418a-fadb-eaf7d0b0d5c6"
      },
      "execution_count": null,
      "outputs": [
        {
          "output_type": "stream",
          "name": "stdout",
          "text": [
            "Epoch 1/20\n",
            "\u001b[1m71/71\u001b[0m \u001b[32m━━━━━━━━━━━━━━━━━━━━\u001b[0m\u001b[37m\u001b[0m \u001b[1m0s\u001b[0m 23s/step - accuracy: 0.0261 - loss: 5.0273 \n",
            "Epoch 1: val_accuracy improved from -inf to 0.02381, saving model to soubor.keras\n",
            "\u001b[1m71/71\u001b[0m \u001b[32m━━━━━━━━━━━━━━━━━━━━\u001b[0m\u001b[37m\u001b[0m \u001b[1m1894s\u001b[0m 25s/step - accuracy: 0.0262 - loss: 5.0252 - val_accuracy: 0.0238 - val_loss: 31.1367\n",
            "Epoch 2/20\n",
            "\u001b[1m71/71\u001b[0m \u001b[32m━━━━━━━━━━━━━━━━━━━━\u001b[0m\u001b[37m\u001b[0m \u001b[1m0s\u001b[0m 22s/step - accuracy: 0.0956 - loss: 4.4297 \n",
            "Epoch 2: val_accuracy improved from 0.02381 to 0.07143, saving model to soubor.keras\n",
            "\u001b[1m71/71\u001b[0m \u001b[32m━━━━━━━━━━━━━━━━━━━━\u001b[0m\u001b[37m\u001b[0m \u001b[1m1735s\u001b[0m 24s/step - accuracy: 0.0958 - loss: 4.4277 - val_accuracy: 0.0714 - val_loss: 7.0355\n",
            "Epoch 3/20\n",
            "\u001b[1m71/71\u001b[0m \u001b[32m━━━━━━━━━━━━━━━━━━━━\u001b[0m\u001b[37m\u001b[0m \u001b[1m0s\u001b[0m 22s/step - accuracy: 0.1827 - loss: 3.7400 \n",
            "Epoch 3: val_accuracy improved from 0.07143 to 0.16667, saving model to soubor.keras\n",
            "\u001b[1m71/71\u001b[0m \u001b[32m━━━━━━━━━━━━━━━━━━━━\u001b[0m\u001b[37m\u001b[0m \u001b[1m1736s\u001b[0m 24s/step - accuracy: 0.1829 - loss: 3.7376 - val_accuracy: 0.1667 - val_loss: 4.1653\n",
            "Epoch 4/20\n",
            "\u001b[1m71/71\u001b[0m \u001b[32m━━━━━━━━━━━━━━━━━━━━\u001b[0m\u001b[37m\u001b[0m \u001b[1m0s\u001b[0m 22s/step - accuracy: 0.3144 - loss: 2.9366 \n",
            "Epoch 4: val_accuracy improved from 0.16667 to 0.27857, saving model to soubor.keras\n",
            "\u001b[1m71/71\u001b[0m \u001b[32m━━━━━━━━━━━━━━━━━━━━\u001b[0m\u001b[37m\u001b[0m \u001b[1m1740s\u001b[0m 24s/step - accuracy: 0.3147 - loss: 2.9348 - val_accuracy: 0.2786 - val_loss: 3.0744\n",
            "Epoch 5/20\n",
            "\u001b[1m71/71\u001b[0m \u001b[32m━━━━━━━━━━━━━━━━━━━━\u001b[0m\u001b[37m\u001b[0m \u001b[1m0s\u001b[0m 22s/step - accuracy: 0.4005 - loss: 2.3190 \n",
            "Epoch 5: val_accuracy improved from 0.27857 to 0.36786, saving model to soubor.keras\n",
            "\u001b[1m71/71\u001b[0m \u001b[32m━━━━━━━━━━━━━━━━━━━━\u001b[0m\u001b[37m\u001b[0m \u001b[1m1780s\u001b[0m 24s/step - accuracy: 0.4008 - loss: 2.3174 - val_accuracy: 0.3679 - val_loss: 2.9264\n",
            "Epoch 6/20\n",
            "\u001b[1m71/71\u001b[0m \u001b[32m━━━━━━━━━━━━━━━━━━━━\u001b[0m\u001b[37m\u001b[0m \u001b[1m0s\u001b[0m 22s/step - accuracy: 0.5010 - loss: 1.8511 \n",
            "Epoch 6: val_accuracy improved from 0.36786 to 0.64167, saving model to soubor.keras\n",
            "\u001b[1m71/71\u001b[0m \u001b[32m━━━━━━━━━━━━━━━━━━━━\u001b[0m\u001b[37m\u001b[0m \u001b[1m1726s\u001b[0m 24s/step - accuracy: 0.5013 - loss: 1.8501 - val_accuracy: 0.6417 - val_loss: 1.3606\n",
            "Epoch 7/20\n",
            "\u001b[1m71/71\u001b[0m \u001b[32m━━━━━━━━━━━━━━━━━━━━\u001b[0m\u001b[37m\u001b[0m \u001b[1m0s\u001b[0m 22s/step - accuracy: 0.6007 - loss: 1.4648 \n",
            "Epoch 7: val_accuracy did not improve from 0.64167\n",
            "\u001b[1m71/71\u001b[0m \u001b[32m━━━━━━━━━━━━━━━━━━━━\u001b[0m\u001b[37m\u001b[0m \u001b[1m1724s\u001b[0m 24s/step - accuracy: 0.6010 - loss: 1.4636 - val_accuracy: 0.6095 - val_loss: 1.4496\n",
            "Epoch 8/20\n",
            "\u001b[1m71/71\u001b[0m \u001b[32m━━━━━━━━━━━━━━━━━━━━\u001b[0m\u001b[37m\u001b[0m \u001b[1m0s\u001b[0m 22s/step - accuracy: 0.6601 - loss: 1.2277 \n",
            "Epoch 8: val_accuracy did not improve from 0.64167\n",
            "\u001b[1m71/71\u001b[0m \u001b[32m━━━━━━━━━━━━━━━━━━━━\u001b[0m\u001b[37m\u001b[0m \u001b[1m1739s\u001b[0m 24s/step - accuracy: 0.6604 - loss: 1.2267 - val_accuracy: 0.5369 - val_loss: 1.9685\n",
            "Epoch 9/20\n",
            "\u001b[1m71/71\u001b[0m \u001b[32m━━━━━━━━━━━━━━━━━━━━\u001b[0m\u001b[37m\u001b[0m \u001b[1m0s\u001b[0m 22s/step - accuracy: 0.7225 - loss: 0.9682 \n",
            "Epoch 9: val_accuracy improved from 0.64167 to 0.84881, saving model to soubor.keras\n",
            "\u001b[1m71/71\u001b[0m \u001b[32m━━━━━━━━━━━━━━━━━━━━\u001b[0m\u001b[37m\u001b[0m \u001b[1m1704s\u001b[0m 24s/step - accuracy: 0.7227 - loss: 0.9672 - val_accuracy: 0.8488 - val_loss: 0.5780\n",
            "Epoch 10/20\n",
            "\u001b[1m71/71\u001b[0m \u001b[32m━━━━━━━━━━━━━━━━━━━━\u001b[0m\u001b[37m\u001b[0m \u001b[1m0s\u001b[0m 22s/step - accuracy: 0.7619 - loss: 0.8190 \n",
            "Epoch 10: val_accuracy did not improve from 0.84881\n",
            "\u001b[1m71/71\u001b[0m \u001b[32m━━━━━━━━━━━━━━━━━━━━\u001b[0m\u001b[37m\u001b[0m \u001b[1m1725s\u001b[0m 24s/step - accuracy: 0.7621 - loss: 0.8184 - val_accuracy: 0.7679 - val_loss: 0.9810\n",
            "Epoch 11/20\n",
            "\u001b[1m71/71\u001b[0m \u001b[32m━━━━━━━━━━━━━━━━━━━━\u001b[0m\u001b[37m\u001b[0m \u001b[1m0s\u001b[0m 22s/step - accuracy: 0.8040 - loss: 0.7092 \n",
            "Epoch 11: val_accuracy did not improve from 0.84881\n",
            "\u001b[1m71/71\u001b[0m \u001b[32m━━━━━━━━━━━━━━━━━━━━\u001b[0m\u001b[37m\u001b[0m \u001b[1m1706s\u001b[0m 24s/step - accuracy: 0.8039 - loss: 0.7093 - val_accuracy: 0.7786 - val_loss: 0.8592\n",
            "Epoch 12/20\n",
            "\u001b[1m71/71\u001b[0m \u001b[32m━━━━━━━━━━━━━━━━━━━━\u001b[0m\u001b[37m\u001b[0m \u001b[1m0s\u001b[0m 23s/step - accuracy: 0.8080 - loss: 0.6687 \n",
            "Epoch 12: val_accuracy improved from 0.84881 to 0.90833, saving model to soubor.keras\n",
            "\u001b[1m71/71\u001b[0m \u001b[32m━━━━━━━━━━━━━━━━━━━━\u001b[0m\u001b[37m\u001b[0m \u001b[1m1727s\u001b[0m 24s/step - accuracy: 0.8080 - loss: 0.6685 - val_accuracy: 0.9083 - val_loss: 0.3881\n",
            "Epoch 13/20\n",
            "\u001b[1m71/71\u001b[0m \u001b[32m━━━━━━━━━━━━━━━━━━━━\u001b[0m\u001b[37m\u001b[0m \u001b[1m0s\u001b[0m 22s/step - accuracy: 0.8431 - loss: 0.5425 \n",
            "Epoch 13: val_accuracy did not improve from 0.90833\n",
            "\u001b[1m71/71\u001b[0m \u001b[32m━━━━━━━━━━━━━━━━━━━━\u001b[0m\u001b[37m\u001b[0m \u001b[1m1735s\u001b[0m 24s/step - accuracy: 0.8431 - loss: 0.5424 - val_accuracy: 0.8381 - val_loss: 0.6190\n",
            "Epoch 14/20\n",
            "\u001b[1m71/71\u001b[0m \u001b[32m━━━━━━━━━━━━━━━━━━━━\u001b[0m\u001b[37m\u001b[0m \u001b[1m0s\u001b[0m 23s/step - accuracy: 0.8509 - loss: 0.5064 \n",
            "Epoch 14: val_accuracy did not improve from 0.90833\n",
            "\u001b[1m71/71\u001b[0m \u001b[32m━━━━━━━━━━━━━━━━━━━━\u001b[0m\u001b[37m\u001b[0m \u001b[1m1768s\u001b[0m 25s/step - accuracy: 0.8510 - loss: 0.5062 - val_accuracy: 0.8310 - val_loss: 0.7171\n",
            "Epoch 15/20\n",
            "\u001b[1m71/71\u001b[0m \u001b[32m━━━━━━━━━━━━━━━━━━━━\u001b[0m\u001b[37m\u001b[0m \u001b[1m0s\u001b[0m 23s/step - accuracy: 0.8519 - loss: 0.4920 \n",
            "Epoch 15: val_accuracy did not improve from 0.90833\n",
            "\u001b[1m71/71\u001b[0m \u001b[32m━━━━━━━━━━━━━━━━━━━━\u001b[0m\u001b[37m\u001b[0m \u001b[1m1759s\u001b[0m 24s/step - accuracy: 0.8519 - loss: 0.4921 - val_accuracy: 0.8595 - val_loss: 0.5347\n",
            "Epoch 16/20\n",
            "\u001b[1m28/71\u001b[0m \u001b[32m━━━━━━━\u001b[0m\u001b[37m━━━━━━━━━━━━━\u001b[0m \u001b[1m16:21\u001b[0m 23s/step - accuracy: 0.8231 - loss: 0.5297"
          ]
        }
      ]
    },
    {
      "cell_type": "code",
      "source": [
        "pd.DataFrame(history.history).plot()"
      ],
      "metadata": {
        "id": "xFTYjgBFxFMm"
      },
      "execution_count": null,
      "outputs": []
    },
    {
      "cell_type": "code",
      "source": [
        "saved_model = keras.saving.load_model(\"soubor.keras\")"
      ],
      "metadata": {
        "id": "rtbsKdONxGWo"
      },
      "execution_count": null,
      "outputs": []
    },
    {
      "cell_type": "code",
      "source": [],
      "metadata": {
        "id": "vsncwT44xOzn"
      },
      "execution_count": null,
      "outputs": []
    }
  ]
}